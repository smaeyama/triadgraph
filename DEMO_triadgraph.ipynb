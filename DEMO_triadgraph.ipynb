{
 "cells": [
  {
   "cell_type": "code",
   "execution_count": null,
   "metadata": {},
   "outputs": [],
   "source": [
    "%load_ext autoreload\n",
    "%autoreload 2"
   ]
  },
  {
   "cell_type": "markdown",
   "metadata": {},
   "source": [
    "# 1. Replot time evolution of kinetic energy, Fig 5 (a) in Sasaki, PPCF (2020)."
   ]
  },
  {
   "cell_type": "code",
   "execution_count": null,
   "metadata": {},
   "outputs": [],
   "source": [
    "import numpy as np\n",
    "import matplotlib.pyplot as plt\n",
    "from matplotlib import cm\n",
    "\n",
    "plt.rcParams[\"font.size\"]=14 # Font size for matplotlib\n",
    "#plt.tight_layout()\n",
    "\n",
    "energy=np.loadtxt(\"./sample_data/Energy_evo.dat\")\n",
    "\n",
    "nodename=[\"A\",\"B\",\"C\",\"D\"]\n",
    "#nodename=[\"Background_Flow_Shear\",\"Zonal_Flow\",\"Kelvin-Helmholtz_Mode\",\"Intermittent_Spiral_Structure\"]\n",
    "#nodename=[\"B\",\"Z\",\"K\",\"S\"]\n",
    "\n",
    "### Plot Energy\n",
    "fig=plt.figure(figsize=[6,2])\n",
    "ax = fig.add_subplot(111)\n",
    "for k in range(4):\n",
    "    ax.plot(energy[k,:],label=\"$E_{\" + nodename[k] + \"}$\")\n",
    "ax.set_xlabel(\"Time t\")\n",
    "ax.set_ylabel(\"Energy $E_k$\")\n",
    "ax.set_ylim(0,None)\n",
    "ax.set_xlim(0,None)\n",
    "ax.legend(bbox_to_anchor=(1.01,0.5), loc=\"center left\", borderaxespad=0, labelspacing=0)\n",
    "plt.show()"
   ]
  },
  {
   "cell_type": "markdown",
   "metadata": {},
   "source": [
    "# 2. Replot time evolution of transfer, Fig 6 (e)-(h) in Sasaki, PPCF (2020)."
   ]
  },
  {
   "cell_type": "code",
   "execution_count": null,
   "metadata": {},
   "outputs": [],
   "source": [
    "data_A=np.loadtxt(\"./sample_data/J_evo_wo_sym_A.dat\")\n",
    "data_B=np.loadtxt(\"./sample_data/J_evo_wo_sym_B.dat\")\n",
    "data_C=np.loadtxt(\"./sample_data/J_evo_wo_sym_C.dat\")\n",
    "data_D=np.loadtxt(\"./sample_data/J_evo_wo_sym_D.dat\")\n",
    "\n",
    "vmin=-0.02\n",
    "vmax=0.02\n",
    "\n",
    "fig = plt.figure(figsize=(8,8))\n",
    "\n",
    "ax = fig.add_subplot(411)\n",
    "surf = ax.pcolormesh(data_A,cmap=cm.jet,vmin=vmin,vmax=vmax)\n",
    "ax.set_xlabel(\"Time t\")\n",
    "ax.set_ylabel(\"Coupling ID\")\n",
    "cbar = fig.colorbar(surf,aspect=5)\n",
    "cbar.set_label(nodename[0])\n",
    "\n",
    "ax = fig.add_subplot(412)\n",
    "surf = ax.pcolormesh(data_B,cmap=cm.jet,vmin=vmin,vmax=vmax)\n",
    "ax.set_xlabel(\"Time t\")\n",
    "ax.set_ylabel(\"Coupling ID\")\n",
    "cbar = fig.colorbar(surf,aspect=5)\n",
    "cbar.set_label(nodename[1])\n",
    "\n",
    "ax = fig.add_subplot(413)\n",
    "surf = ax.pcolormesh(data_C,cmap=cm.jet,vmin=vmin,vmax=vmax)\n",
    "ax.set_xlabel(\"Time t\")\n",
    "ax.set_ylabel(\"Coupling ID\")\n",
    "cbar = fig.colorbar(surf,aspect=5)\n",
    "cbar.set_label(nodename[2])\n",
    "\n",
    "ax = fig.add_subplot(414)\n",
    "surf = ax.pcolormesh(data_D,cmap=cm.jet,vmin=vmin,vmax=vmax)\n",
    "ax.set_xlabel(\"Time t\")\n",
    "ax.set_ylabel(\"Coupling ID\")\n",
    "cbar = fig.colorbar(surf,aspect=5)\n",
    "cbar.set_label(nodename[3])\n",
    "\n",
    "plt.show()\n",
    "#fig.savefig(file)\n",
    "plt.close(fig)"
   ]
  },
  {
   "cell_type": "markdown",
   "metadata": {},
   "source": [
    "# 3. Rearrange data of energy transfer, and construct non-symmetrized triad transfer $A_k^{p,q}$\n",
    "Anti-symmetry $A_k^{p,q} = - A_p^{k,q}$"
   ]
  },
  {
   "cell_type": "code",
   "execution_count": null,
   "metadata": {},
   "outputs": [],
   "source": [
    "# Rearrange data\n",
    "# 0: A - Background_Flow_Shear\n",
    "# 1: B - Zonal_Flow\n",
    "# 2: C - Kelvin-Helmholtz_Mode\n",
    "# 3: D - Intermittent_Spiral_Structure\n",
    "# Assymmetric triad transfer A_k^pq\n",
    "\n",
    "a_kpq = np.array([data_A.reshape(4,4,1001),data_B.reshape(4,4,1001),data_C.reshape(4,4,1001),data_D.reshape(4,4,1001)])\n",
    "\n",
    "\n",
    "energy=energy[:,120:221]   # *** Time slice ***\n",
    "a_kpq=a_kpq[:,:,:,120:221] # *** Time slice ***\n",
    "\n",
    "\n",
    "\n",
    "# for k in range(4):\n",
    "#     for p in range(4):\n",
    "#         for q in range(4):\n",
    "#             if (k!=p):\n",
    "#                 print(k,p,q,a_kpq[k,p,q,30],a_kpq[p,k,q,30],(a_kpq[k,p,q,30]+a_kpq[p,k,q,30])/max(abs(a_kpq[k,p,q,30]),abs(a_kpq[p,k,q,30])))\n",
    "\n",
    "print(a_kpq[0,1,2,30],a_kpq[1,0,2,30], \"# J(zeta|alpha,beta) = -J(alpha|zeta,beta) in Eq. (5b) in Sasaki PoP\")\n",
    "print(a_kpq[0,1,1,30],a_kpq[1,0,1,30], \"# J(zeta|alpha,beta) = -J(alpha|zeta,beta) in Eq. (5b) in Sasaki PoP\")\n",
    "print(a_kpq[2,3,3,30],a_kpq[3,2,3,30], \"# Combination (2,3,3) has a bit large error.\")"
   ]
  },
  {
   "cell_type": "markdown",
   "metadata": {},
   "source": [
    "# 4. Symmetrization from non-symmetrized triad transfer $A_k^{p,q}$ to the symmetrized triad transfer $S_k^{p,q}$\n",
    "$S_k^{p,q}= \\frac{1}{2} (A_k^{p,q} + A_k^{q,p})$  \n",
    "Symmetry $S_k^{p,q} = S_k^{q,p}$  \n",
    "Detailed balance $S_k^{p,q} + S_p^{q,k} S_q^{k,p} = 0$"
   ]
  },
  {
   "cell_type": "code",
   "execution_count": null,
   "metadata": {},
   "outputs": [],
   "source": [
    "from triadgraph import symmetrize_triadtransfer, directional_triadtransfer, \\\n",
    "                         triadgraph_symmetric_kpq, triadgraph_symmetric_all, \\\n",
    "                         triadgraph_directional_kpq, triadgraph_directional_all\n",
    "\n",
    "j_kpq = symmetrize_triadtransfer(a_kpq)\n",
    "\n",
    "print(j_kpq[0,1,2,30],j_kpq[0,2,1,30])\n",
    "print(j_kpq[0,1,2,30],j_kpq[1,2,0,30],j_kpq[2,0,1,30],j_kpq[0,1,2,30]+j_kpq[1,2,0,30]+j_kpq[2,0,1,30])\n",
    "print(j_kpq[2,3,3,30],j_kpq[3,2,3,30],j_kpq[3,3,2,30],j_kpq[2,3,3,30]+j_kpq[3,2,3,30]+j_kpq[3,3,2,30])"
   ]
  },
  {
   "cell_type": "markdown",
   "metadata": {},
   "source": [
    "# 5. Plot the net transfer $T_k = \\sum_p \\sum_q S_k^{p,q}$, and replot time evolution of energy transfer, Fig. 7 (b)-(e) in Sasaki, PPCF (2020)."
   ]
  },
  {
   "cell_type": "code",
   "execution_count": null,
   "metadata": {},
   "outputs": [],
   "source": [
    "t_k = np.sum(np.sum(j_kpq,axis=2),axis=1)\n",
    "\n",
    "### Plot all T_k\n",
    "fig=plt.figure(figsize=[6,2])\n",
    "ax = fig.add_subplot(111)\n",
    "for k in range(4):\n",
    "    ax.plot(t_k[k,:],label=\"$T_{\" + nodename[k] + \"}$\")\n",
    "ax.plot(np.sum(t_k,axis=0),label=\"sum\")\n",
    "ax.set_xlabel(\"Time t\")\n",
    "ax.set_ylabel(\"Net transfer $T_k$\")\n",
    "ax.set_xlim(0,100)\n",
    "ax.legend(bbox_to_anchor=(1.01,0.5), loc=\"center left\", borderaxespad=0, labelspacing=0)\n",
    "plt.show()\n",
    "\n",
    "### Plot J_k^p,q for each k\n",
    "fig = plt.figure(figsize=[6,9])\n",
    "screening = 0.1 * np.max(abs(j_kpq))\n",
    "for k in range(4):\n",
    "    ax = fig.add_subplot(410+(k+1))\n",
    "    for p in range(4):\n",
    "        for q in range(p,4):\n",
    "            if (p!=q): # J_k^kq = J_k^qk,  J_k^pk = J_k^kp\n",
    "                if np.max(abs(j_kpq[k,p,q,:])*2) > screening: # Screening for visibility\n",
    "                    #ax.plot(j_kpq[k,p,q,:]*2,label=\"J({}|{},{})*2\".format(nodename[k],nodename[p],nodename[q]))\n",
    "                    ax.plot(j_kpq[k,p,q,:]*2,label=\"2$J_{\" + nodename[k] + \"}^{\" + nodename[p] + \",\" + nodename[q] + \"}$\")\n",
    "            else: # J_k^pq\n",
    "                if np.max(abs(j_kpq[k,p,q,:])) > screening: # Screening for visibility\n",
    "                    #ax.plot(j_kpq[k,p,q,:],label=\"J({}|{},{})\".format(nodename[k],nodename[p],nodename[q]))\n",
    "                    ax.plot(j_kpq[k,p,q,:],label=\"$J_{\" + nodename[k] + \"}^{\" + nodename[p] + \",\" + nodename[q] + \"}$\")\n",
    "    ax.set_xlabel(\"Time t\")\n",
    "    ax.set_ylabel(\"$J_{\"+ nodename[k] + \"}^{p,q}$\")\n",
    "    ax.set_xlim(0,100)\n",
    "    ax.legend(bbox_to_anchor=(1.01,0.5), loc=\"center left\", borderaxespad=0, labelspacing=0)\n",
    "plt.show()\n",
    "\n",
    "plt.close(fig)"
   ]
  },
  {
   "cell_type": "markdown",
   "metadata": {},
   "source": [
    "# 6. Directional representation $D_{k \\leftarrow q}^p$ constructed from the symmetrized triad transfer $S_k^{p,q}$"
   ]
  },
  {
   "cell_type": "code",
   "execution_count": null,
   "metadata": {},
   "outputs": [],
   "source": [
    "d_kpq=directional_triadtransfer(j_kpq)\n",
    "print(j_kpq[0,1,2,10],j_kpq[1,2,0,10],j_kpq[2,0,1,10],j_kpq[0,1,2,10]+j_kpq[1,2,0,10]+j_kpq[2,0,1,10])\n",
    "print(d_kpq[0,1,2,10],d_kpq[2,1,0,10])\n",
    "print(d_kpq[1,2,0,10],d_kpq[0,2,1,10])\n",
    "print(d_kpq[2,0,1,10],d_kpq[1,0,2,10])\n",
    "\n",
    "print(j_kpq[0,2,2,10],j_kpq[2,2,0,10],j_kpq[2,0,2,10],j_kpq[0,2,2,10]+j_kpq[2,2,0,10]+j_kpq[2,0,2,10])\n",
    "print(d_kpq[0,2,2,10],d_kpq[2,2,0,10])\n",
    "print(d_kpq[2,2,0,10],d_kpq[0,2,2,10])\n",
    "print(d_kpq[2,0,2,10],d_kpq[2,0,2,10])\n",
    "\n",
    "print(np.sum(np.sum(a_kpq[:,:,:,10],axis=2),axis=1))\n",
    "print(np.sum(np.sum(j_kpq[:,:,:,10],axis=2),axis=1))\n",
    "print(np.sum(np.sum(d_kpq[:,:,:,10],axis=2),axis=1))"
   ]
  },
  {
   "cell_type": "markdown",
   "metadata": {},
   "source": [
    "# 7. Network visualization\n",
    "Since the relative amplitude of energy transfer is expressed by the width of arrows, normalization is recommended before the plot."
   ]
  },
  {
   "cell_type": "code",
   "execution_count": null,
   "metadata": {},
   "outputs": [],
   "source": [
    "# Normalization for plot\n",
    "#a_kpq_max = np.max(abs(a_kpq))\n",
    "j_kpq_max = np.max(abs(j_kpq))\n",
    "#d_kpq_max = np.max(abs(d_kpq))\n",
    "a_kpq = a_kpq / j_kpq_max\n",
    "j_kpq = j_kpq / j_kpq_max\n",
    "d_kpq = d_kpq / j_kpq_max\n",
    "energy_max = np.max(abs(energy))\n",
    "energy = energy / energy_max"
   ]
  },
  {
   "cell_type": "code",
   "execution_count": null,
   "metadata": {},
   "outputs": [],
   "source": [
    "triadgraph_symmetric_kpq(j_kpq[:,:,:,72],1,2,3,title=\"(a) symmetric triad transfer among three\",pwidth=10,nodename=nodename)\n",
    "triadgraph_directional_kpq(d_kpq[:,:,:,72],1,2,3,title=\"(b) directional representation of (a)\",pwidth=10,nodename=nodename)\n",
    "\n",
    "triadgraph_symmetric_kpq(j_kpq[:,:,:,72],2,3,3,title=\"(c) symmetric triad transfer between two\",pwidth=5,nodename=nodename)\n",
    "triadgraph_directional_kpq(d_kpq[:,:,:,72],2,3,3,title=\"(d) directional representation of (c)\",pwidth=5,nodename=nodename)"
   ]
  },
  {
   "cell_type": "markdown",
   "metadata": {},
   "source": [
    "## 7.1 Visualization of symmetrized triad transfer $S_k^{p,q}$"
   ]
  },
  {
   "cell_type": "code",
   "execution_count": null,
   "metadata": {},
   "outputs": [],
   "source": [
    "for i in range(j_kpq.shape[3]):\n",
    "    triadgraph_symmetric_all(j_kpq[:,:,:,i],output=\"png/symmetric_jkpq_t{0:08d}.png\".format(i),title=\"t={:4d}\".format(i),nodename=nodename,energy=energy[:,i])\n",
    "    triadgraph_symmetric_all(j_kpq[:,:,:,i],output=\"dot/symmetric_jkpq_t{0:08d}.dot\".format(i),title=\"t={:4d}\".format(i),nodename=nodename,energy=energy[:,i])\n",
    "for i in range(10):\n",
    "    triadgraph_symmetric_all(np.average(j_kpq[:,:,:,i*10:(i+1)*10],axis=3),title=\"t={:4d}-{:4d}\".format(i*10,(i+1)*10),nodename=nodename,energy=np.average(energy[:,i*10:(i+1)*10],axis=1))"
   ]
  },
  {
   "cell_type": "markdown",
   "metadata": {},
   "source": [
    "## 7.2 Visualization of directional representation $D_{k \\leftarrow q}^p$\n",
    "We propose the directional representation which looks qualitatively similar to the symmetrized triad transfer."
   ]
  },
  {
   "cell_type": "code",
   "execution_count": null,
   "metadata": {},
   "outputs": [],
   "source": [
    "for i in range(d_kpq.shape[3]):\n",
    "    triadgraph_directional_all(d_kpq[:,:,:,i],output=\"png/directional_dkpq_t{0:08d}.png\".format(i),title=\"t={:4d}\".format(i),nodename=nodename,energy=energy[:,i])\n",
    "    triadgraph_directional_all(d_kpq[:,:,:,i],output=\"dot/directional_dkpq_t{0:08d}.dot\".format(i),title=\"t={:4d}\".format(i),nodename=nodename,energy=energy[:,i])\n",
    "for i in range(10):\n",
    "    triadgraph_directional_all(np.average(d_kpq[:,:,:,i*10:(i+1)*10],axis=3),title=\"t={:4d}-{:4d}\".format(i*10,(i+1)*10),nodename=nodename,energy=np.average(energy[:,i*10:(i+1)*10],axis=1))"
   ]
  },
  {
   "cell_type": "markdown",
   "metadata": {},
   "source": [
    "## 7.3 Visualization of non-symmetrized triad transfer $A_k^{p,q}$\n",
    "One may observe fictitious interactions and qualitatively different interpretation from the symmetrized transfer."
   ]
  },
  {
   "cell_type": "code",
   "execution_count": null,
   "metadata": {},
   "outputs": [],
   "source": [
    "wa_kpq = np.transpose(a_kpq,axes=(0,2,1,3))\n",
    "for i in range(wa_kpq.shape[3]):\n",
    "    triadgraph_directional_all(wa_kpq[:,:,:,i],output=\"png/asymmetric_akpq_t{0:08d}.png\".format(i),title=\"t={:4d}\".format(i),nodename=nodename,energy=energy[:,i])\n",
    "    triadgraph_directional_all(wa_kpq[:,:,:,i],output=\"dot/asymmetric_akpq_t{0:08d}.dot\".format(i),title=\"t={:4d}\".format(i),nodename=nodename,energy=energy[:,i])\n",
    "for i in range(10):\n",
    "    triadgraph_directional_all(np.average(wa_kpq[:,:,:,i*10:(i+1)*10],axis=3),title=\"t={:4d}-{:4d}\".format(i*10,(i+1)*10),nodename=nodename,energy=np.average(energy[:,i*10:(i+1)*10],axis=1))"
   ]
  },
  {
   "cell_type": "code",
   "execution_count": null,
   "metadata": {},
   "outputs": [],
   "source": []
  },
  {
   "cell_type": "code",
   "execution_count": null,
   "metadata": {},
   "outputs": [],
   "source": []
  },
  {
   "cell_type": "code",
   "execution_count": null,
   "metadata": {},
   "outputs": [],
   "source": []
  },
  {
   "cell_type": "code",
   "execution_count": null,
   "metadata": {},
   "outputs": [],
   "source": [
    "\n",
    "fig=plt.figure(figsize=[6,11])\n",
    "ax = fig.add_subplot(611)\n",
    "for k in range(4):\n",
    "    ax.plot(energy[k,:],label=\"$E_{\" + nodename[k] + \"}$\")\n",
    "ax.set_xlabel(\"Time t\")\n",
    "ax.set_ylabel(\"Energy $E_k$\")\n",
    "ax.set_ylim(0,None)\n",
    "ax.set_xlim(0,100)\n",
    "plt.xticks(color=\"None\")\n",
    "ax.text(2,0.67,'(a)')\n",
    "ax.legend(bbox_to_anchor=(1.03,0.5), loc=\"center left\", borderaxespad=0, labelspacing=0)\n",
    "\n",
    "ax = fig.add_subplot(612)\n",
    "for k in range(4):\n",
    "    ax.plot(t_k[k,:],label=\"$T_{\" + nodename[k] + \"}$\")\n",
    "ax.plot(np.sum(t_k,axis=0),label=\"sum\")\n",
    "ax.set_xlabel(\"Time t\")\n",
    "ax.set_ylabel(\"Net transfer $T_k$\")\n",
    "ax.set_xlim(0,100)\n",
    "plt.xticks(color=\"None\")\n",
    "ax.text(2,0.067,'(b)')\n",
    "ax.legend(bbox_to_anchor=(1.03,0.5), loc=\"center left\", borderaxespad=0, labelspacing=0)\n",
    "\n",
    "screening = 0.1 * np.max(abs(j_kpq))\n",
    "k=0\n",
    "ax = fig.add_subplot(612+(k+1))\n",
    "for p in range(4):\n",
    "    for q in range(p,4):\n",
    "        if (p!=q): # J_k^kq = J_k^qk,  J_k^pk = J_k^kp\n",
    "            if np.max(abs(j_kpq[k,p,q,:])*2) > screening: # Screening for visibility\n",
    "                #ax.plot(j_kpq[k,p,q,:]*2,label=\"J({}|{},{})*2\".format(nodename[k],nodename[p],nodename[q]))\n",
    "                ax.plot(j_kpq[k,p,q,:]*2,label=\"2$J_{\" + nodename[k] + \"}^{\" + nodename[p] + \",\" + nodename[q] + \"}$\")\n",
    "        else: # J_k^pq\n",
    "            if np.max(abs(j_kpq[k,p,q,:])) > screening: # Screening for visibility\n",
    "                #ax.plot(j_kpq[k,p,q,:],label=\"J({}|{},{})\".format(nodename[k],nodename[p],nodename[q]))\n",
    "                ax.plot(j_kpq[k,p,q,:],label=\"$J_{\" + nodename[k] + \"}^{\" + nodename[p] + \",\" + nodename[q] + \"}$\")\n",
    "ax.set_xlabel(\"Time t\")\n",
    "ax.set_ylabel(\"Triad $J_{\"+ nodename[k] + \"}^{p,q}$\")\n",
    "ax.set_xlim(0,100)\n",
    "plt.xticks(color=\"None\")\n",
    "ax.text(2,0.013,'(c)')\n",
    "ax.legend(bbox_to_anchor=(1.03,0.5), loc=\"center left\", borderaxespad=0, labelspacing=0)\n",
    "\n",
    "k=1\n",
    "ax = fig.add_subplot(612+(k+1))\n",
    "for p in range(4):\n",
    "    for q in range(p,4):\n",
    "        if (p!=q): # J_k^kq = J_k^qk,  J_k^pk = J_k^kp\n",
    "            if np.max(abs(j_kpq[k,p,q,:])*2) > screening: # Screening for visibility\n",
    "                #ax.plot(j_kpq[k,p,q,:]*2,label=\"J({}|{},{})*2\".format(nodename[k],nodename[p],nodename[q]))\n",
    "                ax.plot(j_kpq[k,p,q,:]*2,label=\"2$J_{\" + nodename[k] + \"}^{\" + nodename[p] + \",\" + nodename[q] + \"}$\")\n",
    "        else: # J_k^pq\n",
    "            if np.max(abs(j_kpq[k,p,q,:])) > screening: # Screening for visibility\n",
    "                #ax.plot(j_kpq[k,p,q,:],label=\"J({}|{},{})\".format(nodename[k],nodename[p],nodename[q]))\n",
    "                ax.plot(j_kpq[k,p,q,:],label=\"$J_{\" + nodename[k] + \"}^{\" + nodename[p] + \",\" + nodename[q] + \"}$\")\n",
    "ax.set_xlabel(\"Time t\")\n",
    "ax.set_ylabel(\"Triad $J_{\"+ nodename[k] + \"}^{p,q}$\")\n",
    "ax.set_xlim(0,100)\n",
    "plt.xticks(color=\"None\")\n",
    "ax.text(2,0.038,'(d)')\n",
    "ax.legend(bbox_to_anchor=(1.03,0.5), loc=\"center left\", borderaxespad=0, labelspacing=0)\n",
    "\n",
    "k=2\n",
    "ax = fig.add_subplot(612+(k+1))\n",
    "for p in range(4):\n",
    "    for q in range(p,4):\n",
    "        if (p!=q): # J_k^kq = J_k^qk,  J_k^pk = J_k^kp\n",
    "            if np.max(abs(j_kpq[k,p,q,:])*2) > screening: # Screening for visibility\n",
    "                #ax.plot(j_kpq[k,p,q,:]*2,label=\"J({}|{},{})*2\".format(nodename[k],nodename[p],nodename[q]))\n",
    "                ax.plot(j_kpq[k,p,q,:]*2,label=\"2$J_{\" + nodename[k] + \"}^{\" + nodename[p] + \",\" + nodename[q] + \"}$\")\n",
    "        else: # J_k^pq\n",
    "            if np.max(abs(j_kpq[k,p,q,:])) > screening: # Screening for visibility\n",
    "                #ax.plot(j_kpq[k,p,q,:],label=\"J({}|{},{})\".format(nodename[k],nodename[p],nodename[q]))\n",
    "                ax.plot(j_kpq[k,p,q,:],label=\"$J_{\" + nodename[k] + \"}^{\" + nodename[p] + \",\" + nodename[q] + \"}$\")\n",
    "ax.set_xlabel(\"Time t\")\n",
    "ax.set_ylabel(\"Triad $J_{\"+ nodename[k] + \"}^{p,q}$\")\n",
    "ax.set_xlim(0,100)\n",
    "plt.xticks(color=\"None\")\n",
    "ax.text(2,0.009,'(e)')\n",
    "ax.legend(bbox_to_anchor=(1.03,0.5), loc=\"center left\", borderaxespad=0, labelspacing=0)\n",
    "\n",
    "k=3\n",
    "ax = fig.add_subplot(612+(k+1))\n",
    "for p in range(4):\n",
    "    for q in range(p,4):\n",
    "        if (p!=q): # J_k^kq = J_k^qk,  J_k^pk = J_k^kp\n",
    "            if np.max(abs(j_kpq[k,p,q,:])*2) > screening: # Screening for visibility\n",
    "                #ax.plot(j_kpq[k,p,q,:]*2,label=\"J({}|{},{})*2\".format(nodename[k],nodename[p],nodename[q]))\n",
    "                ax.plot(j_kpq[k,p,q,:]*2,label=\"2$J_{\" + nodename[k] + \"}^{\" + nodename[p] + \",\" + nodename[q] + \"}$\")\n",
    "        else: # J_k^pq\n",
    "            if np.max(abs(j_kpq[k,p,q,:])) > screening: # Screening for visibility\n",
    "                #ax.plot(j_kpq[k,p,q,:],label=\"J({}|{},{})\".format(nodename[k],nodename[p],nodename[q]))\n",
    "                ax.plot(j_kpq[k,p,q,:],label=\"$J_{\" + nodename[k] + \"}^{\" + nodename[p] + \",\" + nodename[q] + \"}$\")\n",
    "ax.set_xlabel(\"Time t\")\n",
    "ax.set_ylabel(\"Triad $J_{\"+ nodename[k] + \"}^{p,q}$\")\n",
    "ax.set_xlim(0,100)\n",
    "plt.xticks(color=\"None\")\n",
    "ax.text(2,0.022,'(f)')\n",
    "ax.legend(bbox_to_anchor=(1.03,0.5), loc=\"center left\", borderaxespad=0, labelspacing=0)\n",
    "\n",
    "\n",
    "plt.xticks(color=\"k\")\n",
    "plt.show()\n",
    "\n",
    "plt.close(fig)"
   ]
  },
  {
   "cell_type": "code",
   "execution_count": null,
   "metadata": {},
   "outputs": [],
   "source": [
    "# comparison of visivility\n",
    "triadgraph_symmetric_all(np.average(j_kpq[:,:,:,50:60],axis=3),title=\"t={:4d}-{:4d}\".format(50,60),nodename=nodename,screening=1e-5,energy=np.average(energy[:,i*10:(i+1)*10],axis=1))\n",
    "triadgraph_directional_all(np.average(d_kpq[:,:,:,50:60],axis=3),title=\"t={:4d}-{:4d}\".format(50,60),nodename=nodename,screening=1e-5,energy=np.average(energy[:,i*10:(i+1)*10],axis=1))"
   ]
  },
  {
   "cell_type": "code",
   "execution_count": null,
   "metadata": {},
   "outputs": [],
   "source": [
    "contracted_dkq=np.sum\n",
    "\n",
    "fig = plt.figure()\n",
    "ax = fig.add_subplot(111)\n",
    "surf = ax.pcolormesh(np.arange(4),np.arange(4),np.sum(np.average(d_kpq[:,:,:,50:60],axis=3),axis=1),\n",
    "                     cmap=cm.RdBu,shading=\"auto\",vmax=0.7,vmin=-0.7)\n",
    "ax.set_xlabel(\"Mode k\")\n",
    "ax.set_ylabel(\"Mode q\")\n",
    "ax.set_xticks(list(np.arange(4)))\n",
    "ax.set_xticklabels(nodename)\n",
    "ax.set_yticks(list(np.arange(4)))\n",
    "ax.set_yticklabels(nodename)\n",
    "cbar = fig.colorbar(surf,aspect=5)\n",
    "cbar.set_label(r\"$\\sum_p D_{k \\leftarrow q}^p$\")\n",
    "plt.show()\n",
    "\n",
    "fig = plt.figure()\n",
    "ax = fig.add_subplot(111)\n",
    "surf = ax.pcolormesh(np.arange(4),np.arange(4),np.sum(np.average(wa_kpq[:,:,:,50:60],axis=3),axis=1),\n",
    "                     cmap=cm.RdBu,shading=\"auto\",vmax=0.7,vmin=-0.7)\n",
    "ax.set_xlabel(\"Mode k\")\n",
    "ax.set_ylabel(\"Mode q\")\n",
    "ax.set_xticks(list(np.arange(4)))\n",
    "ax.set_xticklabels(nodename)\n",
    "ax.set_yticks(list(np.arange(4)))\n",
    "ax.set_yticklabels(nodename)\n",
    "cbar = fig.colorbar(surf,aspect=5)\n",
    "cbar.set_label(r\"$\\sum_p A_k^{q,p}$\")\n",
    "plt.show()"
   ]
  },
  {
   "cell_type": "markdown",
   "metadata": {},
   "source": [
    "# 8. Contracted mode-to-mode transfer\n",
    "$D_{k \\leftarrow q} = \\sum_p D_{k \\leftarrow q}^p$, which could be repraced by the mode-to-mode transfer summed over the index of the mediator $p$, often plotted in the non-symmetrized tranfer analysis."
   ]
  },
  {
   "cell_type": "code",
   "execution_count": null,
   "metadata": {},
   "outputs": [],
   "source": [
    "from triadgraph import triadgraph_mode2mode_all\n",
    "\n",
    "contracted_d_kq=np.sum(d_kpq[:,:,:,:],axis=1) # d_kpq[k,p,q,time]\n",
    "\n",
    "fig = plt.figure()\n",
    "ax = fig.add_subplot(111)\n",
    "surf = ax.pcolormesh(np.arange(4),np.arange(4),np.average(contracted_d_kq[:,:,50:60],axis=2),\n",
    "                     cmap=cm.RdBu,shading=\"auto\",vmax=0.7,vmin=-0.7)\n",
    "ax.set_xlabel(\"Mode k\")\n",
    "ax.set_ylabel(\"Mode q\")\n",
    "ax.set_xticks(list(np.arange(4)))\n",
    "ax.set_xticklabels(nodename)\n",
    "ax.set_yticks(list(np.arange(4)))\n",
    "ax.set_yticklabels(nodename)\n",
    "ax.set_aspect('equal', adjustable='box')\n",
    "cbar = fig.colorbar(surf,aspect=5)\n",
    "cbar.set_label(r\"$D_{k \\leftarrow q}=\\sum_p D_{k \\leftarrow q}^p$\")\n",
    "plt.show()\n",
    "\n",
    "triadgraph_mode2mode_all(np.average(contracted_d_kq[:,:,50:60],axis=2),title=\"t=50-60\",screening=0.1,nodename=nodename,energy=np.average(energy[:,50:60],axis=1))\n",
    "\n",
    "\n",
    "\n",
    "contracted_wa_kq=np.sum(wa_kpq[:,:,:,:],axis=1) # wa_kpq[k,p,q,time]\n",
    "\n",
    "fig = plt.figure()\n",
    "ax = fig.add_subplot(111)\n",
    "surf = ax.pcolormesh(np.arange(4),np.arange(4),np.average(contracted_wa_kq[:,:,50:60],axis=2),\n",
    "                     cmap=cm.RdBu,shading=\"auto\",vmax=0.7,vmin=-0.7)\n",
    "ax.set_xlabel(\"Mode k\")\n",
    "ax.set_ylabel(\"Mode q\")\n",
    "ax.set_xticks(list(np.arange(4)))\n",
    "ax.set_xticklabels(nodename)\n",
    "ax.set_yticks(list(np.arange(4)))\n",
    "ax.set_yticklabels(nodename)\n",
    "ax.set_aspect('equal', adjustable='box')\n",
    "cbar = fig.colorbar(surf,aspect=5)\n",
    "cbar.set_label(r\"$A_k^q=\\sum_p A_k^{q,p}$\")\n",
    "plt.show()\n",
    "\n",
    "\n",
    "triadgraph_mode2mode_all(np.average(contracted_wa_kq[:,:,50:60],axis=2),title=\"t=50-60\",screening=0.1,nodename=nodename,energy=np.average(energy[:,50:60],axis=1))"
   ]
  },
  {
   "cell_type": "code",
   "execution_count": null,
   "metadata": {},
   "outputs": [],
   "source": []
  },
  {
   "cell_type": "code",
   "execution_count": null,
   "metadata": {},
   "outputs": [],
   "source": []
  }
 ],
 "metadata": {
  "kernelspec": {
   "display_name": "Python 3",
   "language": "python",
   "name": "python3"
  },
  "language_info": {
   "codemirror_mode": {
    "name": "ipython",
    "version": 3
   },
   "file_extension": ".py",
   "mimetype": "text/x-python",
   "name": "python",
   "nbconvert_exporter": "python",
   "pygments_lexer": "ipython3",
   "version": "3.7.7"
  }
 },
 "nbformat": 4,
 "nbformat_minor": 4
}
